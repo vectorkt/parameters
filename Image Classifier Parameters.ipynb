{
 "cells": [
  {
   "cell_type": "code",
   "execution_count": 4,
   "metadata": {},
   "outputs": [
    {
     "name": "stdout",
     "output_type": "stream",
     "text": [
      "DONE\n"
     ]
    }
   ],
   "source": [
    "#imports\n",
    "import tensorflow as ts\n",
    "import keras as ks\n",
    "import matplotlib.pyplot as plt\n",
    "import numpy as np\n",
    "import time\n",
    "import random\n",
    "\n",
    "from numpy.random import seed\n",
    "from random import randint\n",
    "from keras.datasets import mnist\n",
    "from keras.layers import Dense,Activation\n",
    "from keras.optimizers import Adam\n",
    "from keras.models import Model, Input\n",
    "from keras.utils import to_categorical,np_utils\n",
    "from keras.layers.advanced_activations import LeakyReLU\n",
    "\n",
    "def done():\n",
    "    print(\"DONE\")\n",
    "def nl():\n",
    "    print(\"\")\n",
    "    \n",
    "done()"
   ]
  },
  {
   "cell_type": "code",
   "execution_count": 5,
   "metadata": {},
   "outputs": [
    {
     "name": "stdout",
     "output_type": "stream",
     "text": [
      "DONE\n"
     ]
    }
   ],
   "source": [
    "\n",
    "#magic numbers\n",
    "seed(42)\n",
    "nr_classes=10\n",
    "nr_neurons_in_layer=10\n",
    "my_optimizer=Adam()\n",
    "my_batch_size=128\n",
    "pixels_ox=28\n",
    "pixels_oy=28\n",
    "my_epochs=10\n",
    "\n",
    "#want_to_train=False\n",
    "\n",
    "done()"
   ]
  },
  {
   "cell_type": "code",
   "execution_count": 6,
   "metadata": {},
   "outputs": [
    {
     "name": "stdout",
     "output_type": "stream",
     "text": [
      "path: f:\\stuff\\anaconda2\\envs\\tensorflow\\lib\\site-packages\\keras\\datasets\\mnist.py\n",
      "\n",
      "shape of training input: (60000, 28, 28)\n",
      "shape of training output: (60000,)\n",
      "shape of test input: (10000, 28, 28)\n",
      "shape of training output: (10000,)\n",
      "\n",
      "DONE\n"
     ]
    },
    {
     "data": {
      "image/png": "[encoded data removed]",
      "text/plain": [
       "<Figure size 432x288 with 1 Axes>"
      ]
     },
     "metadata": {},
     "output_type": "display_data"
    }
   ],
   "source": [
    "#loading the data set and veifying shape\n",
    "print(\"path:\",mnist.__file__)\n",
    "nl()\n",
    "(input_train,output_train),(input_test,output_test)=mnist.load_data()\n",
    "print(\"shape of training input:\",input_train.shape)\n",
    "print(\"shape of training output:\",output_train.shape)\n",
    "print(\"shape of test input:\",input_test.shape)\n",
    "print(\"shape of training output:\",output_test.shape)\n",
    "nl()\n",
    "\n",
    "pick_a_random_input=randint(0,len(input_train))\n",
    "plt.imshow(input_train[pick_a_random_input])\n",
    "\n",
    "\n",
    "done()"
   ]
  },
  {
   "cell_type": "code",
   "execution_count": 7,
   "metadata": {},
   "outputs": [
    {
     "name": "stdout",
     "output_type": "stream",
     "text": [
      "reshaped input_train: (60000, 784)\n",
      "reshaped input_test: (10000, 784)\n"
     ]
    }
   ],
   "source": [
    "#RESHAPING\n",
    "\n",
    "#difference between the two?\n",
    "\n",
    "#MODEL BASED \n",
    "reshaped=28*28\n",
    "input_train = np.reshape(input_train, (input_train.shape[0],reshaped))\n",
    "input_test = np.reshape(input_test, (input_test.shape[0],reshaped))\n",
    "\n",
    "#FUNCTIONAL\n",
    "#input_train = np.reshape(input_train, (-1,pixels_ox, pixels_oy,1))\n",
    "#input_test = np.reshape(input_test, (-1,pixels_ox, pixels_oy, 1))\n",
    "\n",
    "#input_train = np.reshape(input_train, (-1,pixels_ox, pixels_oy))\n",
    "#input_test = np.reshape(input_test, (-1,pixels_ox, pixels_oy))\n",
    "\n",
    "print(\"reshaped input_train:\",input_train.shape)\n",
    "print(\"reshaped input_test:\",input_test.shape)"
   ]
  },
  {
   "cell_type": "code",
   "execution_count": 8,
   "metadata": {},
   "outputs": [
    {
     "name": "stdout",
     "output_type": "stream",
     "text": [
      "DONE\n"
     ]
    }
   ],
   "source": [
    "\n",
    "#ENSURING FLOAT\n",
    "\n",
    "input_train = input_train.astype('float32')\n",
    "input_test = input_test.astype('float32')\n",
    "\n",
    "done()"
   ]
  },
  {
   "cell_type": "code",
   "execution_count": 9,
   "metadata": {},
   "outputs": [
    {
     "name": "stdout",
     "output_type": "stream",
     "text": [
      "DONE\n"
     ]
    }
   ],
   "source": [
    "#NORMALIZING DATA\n",
    "input_train=input_train/255\n",
    "input_test=input_test/255\n",
    "done()"
   ]
  },
  {
   "cell_type": "code",
   "execution_count": 10,
   "metadata": {},
   "outputs": [
    {
     "name": "stdout",
     "output_type": "stream",
     "text": [
      "before onehot enconding: 5\n",
      "after onehot encoding: [0. 0. 0. 0. 0. 1. 0. 0. 0. 0.]\n",
      "DONE\n"
     ]
    }
   ],
   "source": [
    "#ONEHOT ENCODING\n",
    "choose_random_output=randint(0,len(output_train)-1)\n",
    "print(\"before onehot enconding:\",output_train[choose_random_output])\n",
    "output_train_encoded=to_categorical(output_train,nr_classes)\n",
    "output_test_encoded=to_categorical(output_test,nr_classes)\n",
    "print(\"after onehot encoding:\",output_train_encoded[choose_random_output])\n",
    "done()"
   ]
  },
  {
   "cell_type": "code",
   "execution_count": 14,
   "metadata": {},
   "outputs": [
    {
     "name": "stdout",
     "output_type": "stream",
     "text": [
      "_________________________________________________________________\n",
      "Layer (type)                 Output Shape              Param #   \n",
      "=================================================================\n",
      "input_4 (InputLayer)         (None, 784)               0         \n",
      "_________________________________________________________________\n",
      "dense_10 (Dense)             (None, 16)                12560     \n",
      "_________________________________________________________________\n",
      "dense_11 (Dense)             (None, 16)                272       \n",
      "_________________________________________________________________\n",
      "dense_12 (Dense)             (None, 10)                170       \n",
      "_________________________________________________________________\n",
      "leaky_re_lu_2 (LeakyReLU)    (None, 10)                0         \n",
      "=================================================================\n",
      "Total params: 13,002\n",
      "Trainable params: 13,002\n",
      "Non-trainable params: 0\n",
      "_________________________________________________________________\n"
     ]
    }
   ],
   "source": [
    "reshaped=28*28\n",
    "nr_neurons_in_layer=16\n",
    "nr_classes=10\n",
    "\n",
    "#DEFINING MODEL\n",
    "def my_model(x):\n",
    "    x=Dense(nr_neurons_in_layer)(x)\n",
    "    x=Dense(nr_neurons_in_layer)(x)\n",
    "    x=Dense(nr_classes)(x)\n",
    "    x=LeakyReLU(alpha=0.1)(x)\n",
    "    return x\n",
    "\n",
    "my_inputs=Input((reshaped,))\n",
    "my_outputs=my_model(my_inputs)\n",
    "\n",
    "model = Model(inputs=my_inputs,outputs=my_outputs)\n",
    "\n",
    "model.summary()"
   ]
  },
  {
   "cell_type": "code",
   "execution_count": null,
   "metadata": {},
   "outputs": [],
   "source": []
  }
 ],
 "metadata": {
  "kernelspec": {
   "display_name": "Python 3",
   "language": "python",
   "name": "python3"
  },
  "language_info": {
   "codemirror_mode": {
    "name": "ipython",
    "version": 3
   },
   "file_extension": ".py",
   "mimetype": "text/x-python",
   "name": "python",
   "nbconvert_exporter": "python",
   "pygments_lexer": "ipython3",
   "version": "3.5.5"
  }
 },
 "nbformat": 4,
 "nbformat_minor": 2
}
